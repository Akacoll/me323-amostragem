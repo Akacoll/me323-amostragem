{
 "cells": [
  {
   "cell_type": "code",
   "execution_count": 46,
   "metadata": {},
   "outputs": [],
   "source": [
    "import random as rd\n",
    "import numpy as np\n",
    "import pandas as pd\n",
    "import matplotlib.pyplot as plt"
   ]
  },
  {
   "cell_type": "code",
   "execution_count": 47,
   "metadata": {},
   "outputs": [
    {
     "name": "stdout",
     "output_type": "stream",
     "text": [
      "[1 1 1 ... 1 1 1]\n",
      "[0 0 0 ... 0 0 0]\n",
      "[1 1 1 ... 0 0 0] 10000\n"
     ]
    }
   ],
   "source": [
    "#cria população com proporção 0.3 de votos no candidato A\n",
    "popA = np.ones((3000),dtype=np.int)\n",
    "popB = np.zeros((7000),dtype=np.int)\n",
    "pop = np.concatenate((popA,popB))\n",
    "print(popA)\n",
    "print(popB)\n",
    "print(pop, pop.size)"
   ]
  },
  {
   "cell_type": "code",
   "execution_count": 48,
   "metadata": {},
   "outputs": [],
   "source": [
    "#coleta 2000 amostras de tamanho n e guarda em props_amostrais\n",
    "n = 50\n",
    "props_amostrais = np.zeros(2000)\n",
    "for i in range(2000):\n",
    "    prop_amostral = 0\n",
    "    for j in range(n):\n",
    "        prop_amostral += pop[rd.randint(0,9999)]\n",
    "    props_amostrais[i] = prop_amostral/n"
   ]
  },
  {
   "cell_type": "code",
   "execution_count": 49,
   "metadata": {},
   "outputs": [],
   "source": [
    "#calcula media\n",
    "media = np.mean(props_amostrais)"
   ]
  },
  {
   "cell_type": "code",
   "execution_count": 50,
   "metadata": {},
   "outputs": [],
   "source": [
    "#calcula desvio padrão\n",
    "desvio_padrao = np.std(props_amostrais)"
   ]
  },
  {
   "cell_type": "code",
   "execution_count": 51,
   "metadata": {},
   "outputs": [
    {
     "data": {
      "image/png": "[encoded data removed]",
      "text/plain": [
       "<Figure size 432x288 with 1 Axes>"
      ]
     },
     "metadata": {
      "needs_background": "light"
     },
     "output_type": "display_data"
    }
   ],
   "source": [
    "import plotly.graph_objs as go\n",
    "\n",
    "plt.hist(props_amostrais,25, density=1, facecolor='g', alpha=0.75)\n",
    "plt.show()"
   ]
  },
  {
   "cell_type": "code",
   "execution_count": 52,
   "metadata": {},
   "outputs": [],
   "source": [
    "#coleta 2000 amostras de tamanho n e guarda em props_amostrais\n",
    "n = 1000\n",
    "props_amostrais = np.zeros(2000)\n",
    "for i in range(2000):\n",
    "    prop_amostral = 0\n",
    "    for j in range(n):\n",
    "        prop_amostral += pop[rd.randint(0,9999)]\n",
    "    props_amostrais[i] = prop_amostral/n"
   ]
  },
  {
   "cell_type": "code",
   "execution_count": 53,
   "metadata": {},
   "outputs": [],
   "source": [
    "#calcula media\n",
    "media = np.mean(props_amostrais)"
   ]
  },
  {
   "cell_type": "code",
   "execution_count": 54,
   "metadata": {},
   "outputs": [],
   "source": [
    "#calcula desvio padrão\n",
    "desvio_padrao = np.std(props_amostrais)"
   ]
  },
  {
   "cell_type": "code",
   "execution_count": 55,
   "metadata": {},
   "outputs": [
    {
     "data": {
      "image/png": "[encoded data removed]",
      "text/plain": [
       "<Figure size 432x288 with 1 Axes>"
      ]
     },
     "metadata": {
      "needs_background": "light"
     },
     "output_type": "display_data"
    }
   ],
   "source": [
    "import plotly.graph_objs as go\n",
    "\n",
    "plt.hist(props_amostrais,50, density=1, facecolor='g', alpha=0.75)\n",
    "plt.show()"
   ]
  }
 ],
 "metadata": {
  "kernelspec": {
   "display_name": "Python 3",
   "language": "python",
   "name": "python3"
  },
  "language_info": {
   "codemirror_mode": {
    "name": "ipython",
    "version": 3
   },
   "file_extension": ".py",
   "mimetype": "text/x-python",
   "name": "python",
   "nbconvert_exporter": "python",
   "pygments_lexer": "ipython3",
   "version": "3.7.3"
  }
 },
 "nbformat": 4,
 "nbformat_minor": 2
}
