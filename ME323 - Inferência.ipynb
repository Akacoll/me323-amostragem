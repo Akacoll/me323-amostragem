{
 "cells": [
  {
   "cell_type": "code",
   "execution_count": 1,
   "metadata": {},
   "outputs": [],
   "source": [
    "import random as rd\n",
    "import numpy as np\n",
    "import pandas as pd\n",
    "import matplotlib.pyplot as plt"
   ]
  },
  {
   "cell_type": "code",
   "execution_count": 2,
   "metadata": {},
   "outputs": [
    {
     "name": "stdout",
     "output_type": "stream",
     "text": [
      "[1 1 1 ... 1 1 1]\n",
      "[0 0 0 ... 0 0 0]\n",
      "[1 1 1 ... 0 0 0] 10000\n"
     ]
    }
   ],
   "source": [
    "#cria população com proporção 0.3 de votos no candidato A\n",
    "popA = np.ones((3000),dtype=np.int)\n",
    "popB = np.zeros((7000),dtype=np.int)\n",
    "pop = np.concatenate((popA,popB))\n",
    "print(popA)\n",
    "print(popB)\n",
    "print(pop, pop.size)"
   ]
  },
  {
   "cell_type": "code",
   "execution_count": 3,
   "metadata": {},
   "outputs": [],
   "source": [
    "#função que calcula 2000 proporções amostrais de acordo com o tamanho n da amostra\n",
    "def calcula_props_amostrais(n):\n",
    "    props_amostrais = np.zeros(2000)\n",
    "    for i in range(2000):\n",
    "        prop_amostral = 0\n",
    "        for j in range(n):\n",
    "            prop_amostral += pop[rd.randint(0,9999)]\n",
    "        props_amostrais[i] = prop_amostral/n\n",
    "    return props_amostrais"
   ]
  },
  {
   "cell_type": "code",
   "execution_count": 4,
   "metadata": {},
   "outputs": [
    {
     "name": "stdout",
     "output_type": "stream",
     "text": [
      "0.3012 0.06525457838343605\n"
     ]
    }
   ],
   "source": [
    "#roda função para tamanho de amostra = 50\n",
    "props_amostrais_menor = calcula_props_amostrais(50)\n",
    "#calcula media\n",
    "media = np.mean(props_amostrais_menor)\n",
    "#calcula desvio padrão\n",
    "desvio_padrao = np.std(props_amostrais_menor)\n",
    "print(media, desvio_padrao)"
   ]
  },
  {
   "cell_type": "code",
   "execution_count": 5,
   "metadata": {
    "scrolled": true
   },
   "outputs": [
    {
     "data": {
      "image/png": "[encoded data removed]",
      "text/plain": [
       "<Figure size 432x288 with 1 Axes>"
      ]
     },
     "metadata": {
      "needs_background": "light"
     },
     "output_type": "display_data"
    }
   ],
   "source": [
    "plt.hist(props_amostrais_menor,20, density=1, facecolor='g', alpha=0.75)\n",
    "plt.show()"
   ]
  },
  {
   "cell_type": "code",
   "execution_count": 6,
   "metadata": {},
   "outputs": [
    {
     "name": "stdout",
     "output_type": "stream",
     "text": [
      "0.300077 0.020669592908424687\n"
     ]
    }
   ],
   "source": [
    "#roda função para tamanho de amostra = 500\n",
    "props_amostrais_maior = calcula_props_amostrais(500)\n",
    "#calcula media\n",
    "media = np.mean(props_amostrais_maior)\n",
    "#calcula desvio padrão\n",
    "desvio_padrao = np.std(props_amostrais_maior)\n",
    "print(media, desvio_padrao)"
   ]
  },
  {
   "cell_type": "code",
   "execution_count": 7,
   "metadata": {
    "scrolled": true
   },
   "outputs": [
    {
     "data": {
      "image/png": "[encoded data removed]",
      "text/plain": [
       "<Figure size 432x288 with 1 Axes>"
      ]
     },
     "metadata": {
      "needs_background": "light"
     },
     "output_type": "display_data"
    }
   ],
   "source": [
    "plt.hist(props_amostrais_maior,40, density=1, facecolor='g', alpha=0.75)\n",
    "plt.show()"
   ]
  },
  {
   "cell_type": "markdown",
   "metadata": {},
   "source": [
    "Foram usadas amostras de tamanho 50 e 500, respectivamente. Ambas as médias se aproximaram da proporção 0.3 original, chegando em valores com cerca de 99.7% de precisão. Ou seja, são efetivamente próximos à proporção populacional, independendentemente da diferença entre tamanhos amostrais. O que foi relevante para a precisão foi realizar a amostra 2000 vezes.\n",
    "Já o desvio padrão foi aprox. 0.065 e 0.020, respectivamente. **Pela definição de variância, quanto maior o tamanho amostral, menor a imprecisão para calcular a média amostral.**"
   ]
  }
 ],
 "metadata": {
  "kernelspec": {
   "display_name": "Python 3",
   "language": "python",
   "name": "python3"
  },
  "language_info": {
   "codemirror_mode": {
    "name": "ipython",
    "version": 3
   },
   "file_extension": ".py",
   "mimetype": "text/x-python",
   "name": "python",
   "nbconvert_exporter": "python",
   "pygments_lexer": "ipython3",
   "version": "3.7.3"
  }
 },
 "nbformat": 4,
 "nbformat_minor": 2
}
